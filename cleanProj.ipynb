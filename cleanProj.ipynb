{
 "cells": [
  {
   "cell_type": "code",
   "execution_count": 1,
   "metadata": {},
   "outputs": [],
   "source": [
    "# импортируем необходимые библиотеки\n",
    "import psycopg2\n",
    "from datetime import datetime\n",
    "import re\n",
    "import httpagentparser\n",
    "import csv\n",
    "import os\n",
    "from collections import Counter"
   ]
  },
  {
   "cell_type": "code",
   "execution_count": 2,
   "metadata": {},
   "outputs": [],
   "source": [
    "# все что нужно для спарка\n",
    "from pyspark.sql import SparkSession\n",
    "from pyspark.sql.functions import *\n",
    "import pyspark.sql.functions as F"
   ]
  },
  {
   "cell_type": "markdown",
   "metadata": {},
   "source": [
    "Создаем спарк-сессию"
   ]
  },
  {
   "cell_type": "code",
   "execution_count": 3,
   "metadata": {},
   "outputs": [],
   "source": [
    "spark = SparkSession.builder \\\n",
    "  .master(\"local[1]\") \\\n",
    "  .appName(\"SparkFirst\") \\\n",
    "  .appName(\"Timeout Troubleshooting\") \\\n",
    "  .config(\"spark.executor.memory\", \"12g\")\\\n",
    "  .config(\"spark.executor.cores\", 8) \\\n",
    "  .config(\"spark.dynamicAllocation.enabled\", \"true\") \\\n",
    "  .config(\"spark.dynamicAllocation.maxExecutors\", 100) \\\n",
    "  .config(\"spark.network.timeout\", \"600s\") \\\n",
    "  .config(\"spark.shuffle.service.enabled\", \"true\") \\\n",
    ".getOrCreate()"
   ]
  },
  {
   "cell_type": "markdown",
   "metadata": {},
   "source": [
    "Читаем данные из файла .log\n",
    "\n",
    "Для того чтобы обработка смогла вообще произойти log файл пришлось разделить, здесь будет представленна обработка только первых 50к строк"
   ]
  },
  {
   "cell_type": "code",
   "execution_count": 4,
   "metadata": {},
   "outputs": [],
   "source": [
    "base_df = spark.read.text('data/mini_dataset.log')"
   ]
  },
  {
   "cell_type": "markdown",
   "metadata": {},
   "source": [
    "В качестве \"хорошего тона\" проверим нет ли в датафрейме пустых строк"
   ]
  },
  {
   "cell_type": "code",
   "execution_count": 5,
   "metadata": {},
   "outputs": [
    {
     "data": {
      "text/plain": [
       "0"
      ]
     },
     "execution_count": 5,
     "metadata": {},
     "output_type": "execute_result"
    }
   ],
   "source": [
    "base_df.filter(base_df['value'].isNull()).count()"
   ]
  },
  {
   "cell_type": "markdown",
   "metadata": {},
   "source": [
    "Используя следующие регулярные выражения спарсим необходимые нам данные из строк датафрейма"
   ]
  },
  {
   "cell_type": "code",
   "execution_count": 6,
   "metadata": {},
   "outputs": [],
   "source": [
    "host_pattern = r'(^\\S+\\.[\\S+\\.]+\\S+)\\s'                     #регулярное выражение для хоста\n",
    "\n",
    "method_uri_protocol_pattern = r'\\\"(\\S+) (.*?)'              #регулярное выражение для метода\n",
    "\n",
    "status_pattern = r'\\s(\\d{3})\\s'                             #регулярное выражение для ответа\n",
    "\n",
    "user_agent_end=r'\\((.*) '                                   #регулярнео выражение для окончания UA-строки"
   ]
  },
  {
   "cell_type": "code",
   "execution_count": 7,
   "metadata": {},
   "outputs": [
    {
     "name": "stdout",
     "output_type": "stream",
     "text": [
      "+-------------+------+------+--------------------+\n",
      "|         host|method|status|      user_agent_end|\n",
      "+-------------+------+------+--------------------+\n",
      "| 54.36.149.41|   GET|   200|compatible; Ahref...|\n",
      "|  31.56.96.51|   GET|   200|Linux; Android 6....|\n",
      "|  31.56.96.51|   GET|   200|Linux; Android 6....|\n",
      "|40.77.167.129|   GET|   200|compatible; bingb...|\n",
      "|  91.99.72.15|   GET|   200|Windows NT 6.2; W...|\n",
      "|40.77.167.129|   GET|   200|compatible; bingb...|\n",
      "|40.77.167.129|   GET|   200|compatible; bingb...|\n",
      "|40.77.167.129|   GET|   200|compatible; bingb...|\n",
      "|66.249.66.194|   GET|   200|compatible; Googl...|\n",
      "|40.77.167.129|   GET|   200|compatible; bingb...|\n",
      "+-------------+------+------+--------------------+\n",
      "only showing top 10 rows\n",
      "\n",
      "(50000, 4)\n"
     ]
    }
   ],
   "source": [
    "logs_df = base_df.select(regexp_extract('value', host_pattern, 1).alias('host'),\n",
    "                         regexp_extract('value', method_uri_protocol_pattern, 1).alias('method'),\n",
    "                         regexp_extract('value', status_pattern, 1).cast('integer').alias('status'),\n",
    "                         regexp_extract('value', user_agent_end, 1).alias('user_agent_end'))\n",
    "\n",
    "logs_df.show(10, truncate=True)\n",
    "print((logs_df.count(), len(logs_df.columns)))"
   ]
  },
  {
   "cell_type": "markdown",
   "metadata": {},
   "source": [
    "Отдельно проверим есть ли какие-то Null значения"
   ]
  },
  {
   "cell_type": "code",
   "execution_count": 8,
   "metadata": {},
   "outputs": [
    {
     "data": {
      "text/plain": [
       "0"
      ]
     },
     "execution_count": 8,
     "metadata": {},
     "output_type": "execute_result"
    }
   ],
   "source": [
    "logs_df.filter(logs_df['host'].isNull()| \n",
    "                logs_df['method'].isNull() |\n",
    "                logs_df['status'].isNull() |\n",
    "                logs_df['user_agent_end'].isNull()).count()"
   ]
  },
  {
   "cell_type": "markdown",
   "metadata": {},
   "source": [
    "Создадим (по необходимости) и откроем два .csv файла и получим на их основе два новых датафрейма"
   ]
  },
  {
   "cell_type": "code",
   "execution_count": 9,
   "metadata": {},
   "outputs": [],
   "source": [
    "def browser_def(x:str)->str:\n",
    "    pars = httpagentparser.detect(x)\n",
    "    if 'browser' in pars:\n",
    "        return pars['browser']['name']\n",
    "    else:\n",
    "        return 'None'\n",
    "    \n",
    "def device_def(x:str)->str:\n",
    "    pars = httpagentparser.detect(x)\n",
    "    if pars['platform']['name'] != 'None':\n",
    "        return f\"{pars['platform']['name']} {pars['platform']['version']}\" \n",
    "    else:\n",
    "        return 'None'\n",
    "    \n",
    "def logs_pars_to_file(logs_df, df_key:str, pars_key:str, file_name, pars_function):\n",
    "    count = 0\n",
    "    res = []\n",
    "    keys = []\n",
    "\n",
    "    for row in logs_df.toLocalIterator():\n",
    "        count += 1\n",
    "        row_dict = row.asDict()\n",
    "        row_dict[pars_key] = pars_function(row_dict[df_key])\n",
    "        res.append(row_dict)\n",
    "\n",
    "        if count == 1:\n",
    "            keys = res[0].keys()\n",
    "            with open(file_name, 'w', newline='') as output_file:\n",
    "                dict_writer = csv.DictWriter(output_file, keys)\n",
    "                dict_writer.writeheader()\n",
    "                \n",
    "        if count % 500000 == 0:\n",
    "            print(count)\n",
    "            with open(file_name, 'a', newline='') as output_file:\n",
    "                dict_writer = csv.DictWriter(output_file, keys)\n",
    "                dict_writer.writerows(res)\n",
    "                del res\n",
    "                res = []\n",
    "\n",
    "    with open(file_name, 'a', newline='') as output_file:\n",
    "                dict_writer = csv.DictWriter(output_file, keys)\n",
    "                dict_writer.writerows(res)\n",
    "    del res"
   ]
  },
  {
   "cell_type": "code",
   "execution_count": 10,
   "metadata": {},
   "outputs": [
    {
     "name": "stdout",
     "output_type": "stream",
     "text": [
      "+-------------+------+------+--------------------+-------+\n",
      "|         host|method|status|      user_agent_end|browser|\n",
      "+-------------+------+------+--------------------+-------+\n",
      "| 54.36.149.41|   GET|   200|compatible; Ahref...|   None|\n",
      "|  31.56.96.51|   GET|   200|Linux; Android 6....| Chrome|\n",
      "|  31.56.96.51|   GET|   200|Linux; Android 6....| Chrome|\n",
      "|40.77.167.129|   GET|   200|compatible; bingb...|BingBot|\n",
      "|  91.99.72.15|   GET|   200|Windows NT 6.2; W...|Firefox|\n",
      "+-------------+------+------+--------------------+-------+\n",
      "only showing top 5 rows\n",
      "\n",
      "+-------------+------+------+--------------------+-----------+\n",
      "|         host|method|status|      user_agent_end|   platform|\n",
      "+-------------+------+------+--------------------+-----------+\n",
      "| 54.36.149.41|   GET|   200|compatible; Ahref...|  None None|\n",
      "|  31.56.96.51|   GET|   200|Linux; Android 6....|Android 6.0|\n",
      "|  31.56.96.51|   GET|   200|Linux; Android 6....|Android 6.0|\n",
      "|40.77.167.129|   GET|   200|compatible; bingb...|  None None|\n",
      "|  91.99.72.15|   GET|   200|Windows NT 6.2; W...|  Windows 8|\n",
      "+-------------+------+------+--------------------+-----------+\n",
      "only showing top 5 rows\n",
      "\n"
     ]
    }
   ],
   "source": [
    "if not os.path.isfile('data/logs_browser.csv'):\n",
    "    logs_pars_to_file(logs_df=logs_df, df_key='user_agent_end', pars_key='browser', file_name='data/logs_browser.csv', pars_function=browser_def)\n",
    "\n",
    "logs_browser = spark.read.csv('data/logs_browser.csv', header=True, sep=',') \n",
    "logs_browser.show(5)    \n",
    "\n",
    "\n",
    "if not os.path.isfile('data/logs_platform.csv'):\n",
    "    logs_pars_to_file(logs_df, 'user_agent_end', 'platform', 'data/logs_platform.csv', device_def)\n",
    "\n",
    "logs_platform = spark.read.csv('data/logs_platform.csv', header=True, sep=',')\n",
    "logs_platform.show(5)"
   ]
  },
  {
   "cell_type": "markdown",
   "metadata": {},
   "source": [
    "Удалим три колонки для облегчения дальнейшего объединения"
   ]
  },
  {
   "cell_type": "code",
   "execution_count": 11,
   "metadata": {},
   "outputs": [
    {
     "name": "stdout",
     "output_type": "stream",
     "text": [
      "+------------+-------+\n",
      "|        host|browser|\n",
      "+------------+-------+\n",
      "|54.36.149.41|   None|\n",
      "| 31.56.96.51| Chrome|\n",
      "| 31.56.96.51| Chrome|\n",
      "+------------+-------+\n",
      "only showing top 3 rows\n",
      "\n"
     ]
    }
   ],
   "source": [
    "logs_browser = logs_browser.drop('method').drop('status').drop('user_agent_end')\n",
    "logs_browser.show(3)"
   ]
  },
  {
   "cell_type": "markdown",
   "metadata": {},
   "source": [
    "Из датафрейма logs_platform удалим колонку с юзер агентом, так как он уже выполнил то для чего мы его сохраняли"
   ]
  },
  {
   "cell_type": "code",
   "execution_count": 12,
   "metadata": {},
   "outputs": [
    {
     "name": "stdout",
     "output_type": "stream",
     "text": [
      "+------------+------+------+-----------+\n",
      "|        host|method|status|   platform|\n",
      "+------------+------+------+-----------+\n",
      "|54.36.149.41|   GET|   200|  None None|\n",
      "| 31.56.96.51|   GET|   200|Android 6.0|\n",
      "| 31.56.96.51|   GET|   200|Android 6.0|\n",
      "+------------+------+------+-----------+\n",
      "only showing top 3 rows\n",
      "\n"
     ]
    }
   ],
   "source": [
    "logs_platform = logs_platform.drop('user_agent_end')\n",
    "logs_platform.show(3)"
   ]
  },
  {
   "cell_type": "markdown",
   "metadata": {},
   "source": [
    "Объединим данные датафреймы для дальнейшей обработки"
   ]
  },
  {
   "cell_type": "code",
   "execution_count": 13,
   "metadata": {},
   "outputs": [],
   "source": [
    "del logs_df\n",
    "del base_df"
   ]
  },
  {
   "cell_type": "code",
   "execution_count": 14,
   "metadata": {},
   "outputs": [
    {
     "name": "stdout",
     "output_type": "stream",
     "text": [
      "+------------+------+------+---------+-------+\n",
      "|        host|method|status| platform|browser|\n",
      "+------------+------+------+---------+-------+\n",
      "|54.36.149.41|   GET|   200|None None|   None|\n",
      "|54.36.149.41|   GET|   200|None None|   None|\n",
      "|54.36.149.41|   GET|   200|None None|   None|\n",
      "+------------+------+------+---------+-------+\n",
      "only showing top 3 rows\n",
      "\n"
     ]
    }
   ],
   "source": [
    "all_df = logs_platform.join(logs_browser, 'host', how = 'inner')\n",
    "all_df.show(3)"
   ]
  },
  {
   "cell_type": "markdown",
   "metadata": {},
   "source": [
    "Для дальнейшего анализа закешируем новый датафрейм"
   ]
  },
  {
   "cell_type": "code",
   "execution_count": 15,
   "metadata": {},
   "outputs": [
    {
     "data": {
      "text/plain": [
       "DataFrame[host: string, method: string, status: string, platform: string, browser: string]"
      ]
     },
     "execution_count": 15,
     "metadata": {},
     "output_type": "execute_result"
    }
   ],
   "source": [
    "all_df.cache()"
   ]
  },
  {
   "cell_type": "code",
   "execution_count": 16,
   "metadata": {},
   "outputs": [],
   "source": [
    "df_p = all_df.filter(all_df.platform != 'None None') \n",
    "clean_df = df_p.filter(df_p.browser != 'None')"
   ]
  },
  {
   "cell_type": "code",
   "execution_count": 17,
   "metadata": {},
   "outputs": [],
   "source": [
    "# clean_df.show(3)"
   ]
  },
  {
   "cell_type": "code",
   "execution_count": 18,
   "metadata": {},
   "outputs": [
    {
     "data": {
      "text/plain": [
       "DataFrame[host: string, method: string, status: string, platform: string, browser: string]"
      ]
     },
     "execution_count": 18,
     "metadata": {},
     "output_type": "execute_result"
    }
   ],
   "source": [
    "clean_df.cache()"
   ]
  },
  {
   "cell_type": "code",
   "execution_count": 19,
   "metadata": {},
   "outputs": [
    {
     "data": {
      "text/plain": [
       "37455707"
      ]
     },
     "execution_count": 19,
     "metadata": {},
     "output_type": "execute_result"
    }
   ],
   "source": [
    "total_users = clean_df.select('host').count()\n",
    "total_users"
   ]
  },
  {
   "cell_type": "code",
   "execution_count": 20,
   "metadata": {},
   "outputs": [
    {
     "name": "stdout",
     "output_type": "stream",
     "text": [
      "+--------------------+\n",
      "|            platform|\n",
      "+--------------------+\n",
      "|       Android 4.2.1|\n",
      "|       Mac OS X 10.9|\n",
      "|          Windows 10|\n",
      "|           Windows 8|\n",
      "|     Mac OS X 10.7.3|\n",
      "|       Android 4.2.2|\n",
      "|          iOS 11.2.5|\n",
      "|       Android 4.0.4|\n",
      "|    Mac OS X 10.13.6|\n",
      "|             iOS 7.0|\n",
      "|       Android 4.4.4|\n",
      "|       Android 5.0.1|\n",
      "|          iOS 11.2.2|\n",
      "| like Gecko) Vers...|\n",
      "|         Windows 8.1|\n",
      "| like Gecko) Chro...|\n",
      "|    Mac OS X 10.12.6|\n",
      "|    Mac OS X 10.10.2|\n",
      "|            Windows |\n",
      "|Android 4.1.2 Per...|\n",
      "+--------------------+\n",
      "only showing top 20 rows\n",
      "\n"
     ]
    }
   ],
   "source": [
    "device_name = clean_df.select('platform').distinct().show()"
   ]
  },
  {
   "cell_type": "markdown",
   "metadata": {},
   "source": [
    "Количество пользователей устройства"
   ]
  },
  {
   "cell_type": "code",
   "execution_count": 21,
   "metadata": {},
   "outputs": [
    {
     "name": "stdout",
     "output_type": "stream",
     "text": [
      "+---------------+------------+\n",
      "|       platform|device_users|\n",
      "+---------------+------------+\n",
      "|  Android 4.2.1|        1944|\n",
      "|  Mac OS X 10.9|          12|\n",
      "|     Windows 10|      315455|\n",
      "|      Windows 8|      733530|\n",
      "|Mac OS X 10.7.3|      745200|\n",
      "+---------------+------------+\n",
      "only showing top 5 rows\n",
      "\n"
     ]
    }
   ],
   "source": [
    "device_users=clean_df.groupby('platform').agg(count('host').alias('device_users'))     \n",
    "\n",
    "device_users.show(5)"
   ]
  },
  {
   "cell_type": "markdown",
   "metadata": {},
   "source": [
    "Доля пользователей по устройствам"
   ]
  },
  {
   "cell_type": "code",
   "execution_count": 22,
   "metadata": {},
   "outputs": [
    {
     "name": "stdout",
     "output_type": "stream",
     "text": [
      "+----------------+------------+-----------------+\n",
      "|        platform|device_users|part_device_users|\n",
      "+----------------+------------+-----------------+\n",
      "|   Android 4.2.1|        1944|             0.01|\n",
      "|   Mac OS X 10.9|          12|              0.0|\n",
      "|      Windows 10|      315455|             0.84|\n",
      "|       Windows 8|      733530|             1.96|\n",
      "| Mac OS X 10.7.3|      745200|             1.99|\n",
      "|   Android 4.2.2|       50856|             0.14|\n",
      "|      iOS 11.2.5|         441|              0.0|\n",
      "|   Android 4.0.4|         324|              0.0|\n",
      "|Mac OS X 10.13.6|           8|              0.0|\n",
      "|         iOS 7.0|      129109|             0.34|\n",
      "+----------------+------------+-----------------+\n",
      "only showing top 10 rows\n",
      "\n"
     ]
    }
   ],
   "source": [
    "df0 = clean_df.groupby('platform')\\\n",
    "                .agg(count('platform').alias('device_users'))\\\n",
    "                .withColumn('part_device_users', round(F.col('device_users')/total_users * 100, 2))\n",
    "\n",
    "df0.show(10)"
   ]
  },
  {
   "cell_type": "markdown",
   "metadata": {},
   "source": [
    "Количество совершенных действий для данного устройства\n",
    "\n",
    "*Посчитаны просто все действия, без разделения на типы*"
   ]
  },
  {
   "cell_type": "code",
   "execution_count": 23,
   "metadata": {},
   "outputs": [
    {
     "name": "stdout",
     "output_type": "stream",
     "text": [
      "+---------------+--------------+\n",
      "|       platform|device_actions|\n",
      "+---------------+--------------+\n",
      "|  Android 4.2.1|          1944|\n",
      "|  Mac OS X 10.9|            12|\n",
      "|     Windows 10|        315455|\n",
      "|      Windows 8|        733530|\n",
      "|Mac OS X 10.7.3|        745200|\n",
      "+---------------+--------------+\n",
      "only showing top 5 rows\n",
      "\n"
     ]
    }
   ],
   "source": [
    "device_actions=clean_df.groupby(col('platform')).agg(count('method').alias('device_actions'))\n",
    "\n",
    "device_actions.show(5)"
   ]
  },
  {
   "cell_type": "markdown",
   "metadata": {},
   "source": [
    "Всего совершенных действий"
   ]
  },
  {
   "cell_type": "code",
   "execution_count": 24,
   "metadata": {},
   "outputs": [
    {
     "data": {
      "text/plain": [
       "37455707"
      ]
     },
     "execution_count": 24,
     "metadata": {},
     "output_type": "execute_result"
    }
   ],
   "source": [
    "total_actions = clean_df.select('method').count()\n",
    "total_actions"
   ]
  },
  {
   "cell_type": "markdown",
   "metadata": {},
   "source": [
    "Доля совершенных действий с данного устройства относительно других устройств"
   ]
  },
  {
   "cell_type": "code",
   "execution_count": 25,
   "metadata": {},
   "outputs": [
    {
     "name": "stdout",
     "output_type": "stream",
     "text": [
      "+---------------+--------------+-------------------+\n",
      "|       platform|device_actions|part_device_actions|\n",
      "+---------------+--------------+-------------------+\n",
      "|  Android 4.2.1|          1944|               0.01|\n",
      "|  Mac OS X 10.9|            12|                0.0|\n",
      "|     Windows 10|        315455|               0.84|\n",
      "|      Windows 8|        733530|               1.96|\n",
      "|Mac OS X 10.7.3|        745200|               1.99|\n",
      "+---------------+--------------+-------------------+\n",
      "only showing top 5 rows\n",
      "\n"
     ]
    }
   ],
   "source": [
    "df1 = clean_df.groupby(col('platform'))\\\n",
    "                .agg(count(\"method\").alias(\"device_actions\"))\\\n",
    "                .withColumn('part_device_actions', round(F.col('device_actions')/total_actions * 100, 2))\n",
    "\n",
    "df1.show(5)"
   ]
  },
  {
   "cell_type": "code",
   "execution_count": 26,
   "metadata": {},
   "outputs": [
    {
     "name": "stdout",
     "output_type": "stream",
     "text": [
      "37455707\n",
      "+---------------+-----------+\n",
      "|       platform|browser_cnt|\n",
      "+---------------+-----------+\n",
      "|  Android 4.2.1|       1944|\n",
      "|  Mac OS X 10.9|         12|\n",
      "|     Windows 10|     315455|\n",
      "|      Windows 8|     733530|\n",
      "|Mac OS X 10.7.3|     745200|\n",
      "+---------------+-----------+\n",
      "only showing top 5 rows\n",
      "\n"
     ]
    }
   ],
   "source": [
    "total_browser_cnt = clean_df.select('browser').count() # ну мало ли количество вдруг разное\n",
    "\n",
    "browser_cnt = clean_df.groupby('platform').agg(count('browser').alias('browser_cnt'))\n",
    "\n",
    "print(total_browser_cnt)\n",
    "browser_cnt.show(5)"
   ]
  },
  {
   "cell_type": "markdown",
   "metadata": {},
   "source": [
    "Доля использования для данного браузера относительно остальных браузеров"
   ]
  },
  {
   "cell_type": "code",
   "execution_count": 27,
   "metadata": {},
   "outputs": [
    {
     "name": "stdout",
     "output_type": "stream",
     "text": [
      "+---------------+-----------+------------+\n",
      "|       platform|browser_cnt|part_browser|\n",
      "+---------------+-----------+------------+\n",
      "|  Android 4.2.1|       1944|        0.01|\n",
      "|  Mac OS X 10.9|         12|         0.0|\n",
      "|     Windows 10|     315455|        0.84|\n",
      "|      Windows 8|     733530|        1.96|\n",
      "|Mac OS X 10.7.3|     745200|        1.99|\n",
      "+---------------+-----------+------------+\n",
      "only showing top 5 rows\n",
      "\n"
     ]
    }
   ],
   "source": [
    "df2 = clean_df.groupby(col('platform'))\\\n",
    "                .agg(count('browser').alias('browser_cnt'))\\\n",
    "                .withColumn('part_browser', round(F.col('browser_cnt')/total_browser_cnt * 100, 2))  \n",
    "\n",
    "df2.show(5)\n",
    "\n",
    "#данные по частоте такаие же как и на браузере, так как браузер на платферме один и тот же"
   ]
  },
  {
   "cell_type": "markdown",
   "metadata": {},
   "source": [
    "Соединим то что уже есть и посмотрим на это"
   ]
  },
  {
   "cell_type": "code",
   "execution_count": 28,
   "metadata": {},
   "outputs": [
    {
     "name": "stdout",
     "output_type": "stream",
     "text": [
      "+-------------+------------+-----------------+--------------+-------------------+-----------+------------+\n",
      "|     platform|device_users|part_device_users|device_actions|part_device_actions|browser_cnt|part_browser|\n",
      "+-------------+------------+-----------------+--------------+-------------------+-----------+------------+\n",
      "|Android 4.2.1|        1944|             0.01|          1944|               0.01|       1944|        0.01|\n",
      "|Mac OS X 10.9|          12|              0.0|            12|                0.0|         12|         0.0|\n",
      "|   Windows 10|      315455|             0.84|        315455|               0.84|     315455|        0.84|\n",
      "+-------------+------------+-----------------+--------------+-------------------+-----------+------------+\n",
      "only showing top 3 rows\n",
      "\n"
     ]
    }
   ],
   "source": [
    "df3=df0.join(df1, on='platform', how='left').join(df2, on='platform', how='left').drop('count').drop('method')\n",
    "df3.show(3)"
   ]
  },
  {
   "cell_type": "markdown",
   "metadata": {},
   "source": [
    "Рассмотрим статистику по кодам статусов"
   ]
  },
  {
   "cell_type": "code",
   "execution_count": 29,
   "metadata": {},
   "outputs": [
    {
     "name": "stdout",
     "output_type": "stream",
     "text": [
      "+------+--------+\n",
      "|status|   count|\n",
      "+------+--------+\n",
      "|   200|32448454|\n",
      "|   302| 2424037|\n",
      "|   502|    6638|\n",
      "|   404| 1039048|\n",
      "|   403|      42|\n",
      "|   500|    6414|\n",
      "|   304| 1270663|\n",
      "|   499|  107431|\n",
      "|   301|  152980|\n",
      "+------+--------+\n",
      "\n"
     ]
    }
   ],
   "source": [
    "status=clean_df.groupBy('status').count().show()"
   ]
  },
  {
   "cell_type": "markdown",
   "metadata": {},
   "source": [
    "Отдельно рассчитаем следующие группы ответов"
   ]
  },
  {
   "cell_type": "markdown",
   "metadata": {},
   "source": [
    "200"
   ]
  },
  {
   "cell_type": "code",
   "execution_count": 30,
   "metadata": {},
   "outputs": [
    {
     "name": "stdout",
     "output_type": "stream",
     "text": [
      "+---------------+-----------+\n",
      "|       platform|answers_200|\n",
      "+---------------+-----------+\n",
      "|  Android 4.2.1|       1894|\n",
      "|  Mac OS X 10.9|          8|\n",
      "|     Windows 10|     306035|\n",
      "|      Windows 8|     729630|\n",
      "|Mac OS X 10.7.3|     741750|\n",
      "+---------------+-----------+\n",
      "only showing top 5 rows\n",
      "\n"
     ]
    }
   ],
   "source": [
    "answers_200 = clean_df.filter(clean_df.status == '200')\\\n",
    "                        .groupBy('platform')\\\n",
    "                        .agg(count(\"status\").alias(\"answers_200\"))\n",
    "\n",
    "answers_200.show(5)"
   ]
  },
  {
   "cell_type": "markdown",
   "metadata": {},
   "source": [
    "!200"
   ]
  },
  {
   "cell_type": "code",
   "execution_count": 31,
   "metadata": {},
   "outputs": [
    {
     "name": "stdout",
     "output_type": "stream",
     "text": [
      "+---------------+-------------+\n",
      "|       platform|answers_ne200|\n",
      "+---------------+-------------+\n",
      "|  Android 4.2.1|           50|\n",
      "|  Mac OS X 10.9|            4|\n",
      "|     Windows 10|         9420|\n",
      "|      Windows 8|         3900|\n",
      "|Mac OS X 10.7.3|         3450|\n",
      "+---------------+-------------+\n",
      "only showing top 5 rows\n",
      "\n"
     ]
    }
   ],
   "source": [
    "answers_ne200 = clean_df.filter(clean_df.status != '200')\\\n",
    "                        .groupBy(col('platform'))\\\n",
    "                        .agg(count(\"status\").alias(\"answers_ne200\"))\n",
    "\n",
    "answers_ne200.show(5)"
   ]
  },
  {
   "cell_type": "markdown",
   "metadata": {},
   "source": [
    "300 - 399"
   ]
  },
  {
   "cell_type": "code",
   "execution_count": 32,
   "metadata": {},
   "outputs": [
    {
     "name": "stdout",
     "output_type": "stream",
     "text": [
      "+-------------+-----------+\n",
      "|     platform|answers_3XX|\n",
      "+-------------+-----------+\n",
      "|Android 4.2.1|         50|\n",
      "|Mac OS X 10.9|          4|\n",
      "|   Windows 10|       6258|\n",
      "|    Windows 8|        450|\n",
      "|Android 4.2.2|        443|\n",
      "+-------------+-----------+\n",
      "only showing top 5 rows\n",
      "\n"
     ]
    }
   ],
   "source": [
    "answers_3XX = clean_df.filter((clean_df.status >= '300') & (clean_df.status < '400'))\\\n",
    "                        .groupby('platform')\\\n",
    "                        .agg(count(\"status\").alias(\"answers_3XX\"))\n",
    "\n",
    "answers_3XX.show(5)"
   ]
  },
  {
   "cell_type": "markdown",
   "metadata": {},
   "source": [
    "400 - 499"
   ]
  },
  {
   "cell_type": "code",
   "execution_count": 33,
   "metadata": {},
   "outputs": [
    {
     "name": "stdout",
     "output_type": "stream",
     "text": [
      "+---------------+-----------+\n",
      "|       platform|answers_4XX|\n",
      "+---------------+-----------+\n",
      "|     Windows 10|       3162|\n",
      "|      Windows 8|       3450|\n",
      "|Mac OS X 10.7.3|       3450|\n",
      "|  Android 4.2.2|       1034|\n",
      "|     iOS 11.2.5|         84|\n",
      "+---------------+-----------+\n",
      "only showing top 5 rows\n",
      "\n"
     ]
    }
   ],
   "source": [
    "answers_4XX = clean_df.filter((clean_df.status >= '400') & (clean_df.status < '500'))\\\n",
    "                        .groupby('platform')\\\n",
    "                        .agg(count(\"status\").alias(\"answers_4XX\"))\n",
    "\n",
    "answers_4XX.show(5)"
   ]
  },
  {
   "cell_type": "markdown",
   "metadata": {},
   "source": [
    "500+"
   ]
  },
  {
   "cell_type": "code",
   "execution_count": 34,
   "metadata": {},
   "outputs": [
    {
     "name": "stdout",
     "output_type": "stream",
     "text": [
      "+-------------+-----------+\n",
      "|     platform|answers_5XX|\n",
      "+-------------+-----------+\n",
      "|Android 6.0.1|      13052|\n",
      "+-------------+-----------+\n",
      "\n"
     ]
    }
   ],
   "source": [
    "answers_5XX = clean_df.filter(clean_df.status >= '500')\\\n",
    "                        .groupby('platform')\\\n",
    "                        .agg(count(\"status\").alias(\"answers_5XX\"))\n",
    "\n",
    "answers_5XX.show(5)"
   ]
  },
  {
   "cell_type": "markdown",
   "metadata": {},
   "source": [
    "Объединение answers фреймов"
   ]
  },
  {
   "cell_type": "code",
   "execution_count": 35,
   "metadata": {},
   "outputs": [
    {
     "name": "stdout",
     "output_type": "stream",
     "text": [
      "+---------------+------------+-----------------+--------------+-------------------+-----------+------------+-----------+-------------+-----------+-----------+-----------+\n",
      "|       platform|device_users|part_device_users|device_actions|part_device_actions|browser_cnt|part_browser|answers_200|answers_ne200|answers_3XX|answers_4XX|answers_5XX|\n",
      "+---------------+------------+-----------------+--------------+-------------------+-----------+------------+-----------+-------------+-----------+-----------+-----------+\n",
      "|  Android 4.2.1|        1944|             0.01|          1944|               0.01|       1944|        0.01|       1894|           50|         50|       null|       null|\n",
      "|  Mac OS X 10.9|          12|              0.0|            12|                0.0|         12|         0.0|          8|            4|          4|       null|       null|\n",
      "|     Windows 10|      315455|             0.84|        315455|               0.84|     315455|        0.84|     306035|         9420|       6258|       3162|       null|\n",
      "|      Windows 8|      733530|             1.96|        733530|               1.96|     733530|        1.96|     729630|         3900|        450|       3450|       null|\n",
      "|Mac OS X 10.7.3|      745200|             1.99|        745200|               1.99|     745200|        1.99|     741750|         3450|       null|       3450|       null|\n",
      "+---------------+------------+-----------------+--------------+-------------------+-----------+------------+-----------+-------------+-----------+-----------+-----------+\n",
      "only showing top 5 rows\n",
      "\n"
     ]
    }
   ],
   "source": [
    "df_mart = df3.join(answers_200, on ='platform', how='left')\\\n",
    "                .join(answers_ne200, on='platform', how='left')\\\n",
    "                .join(answers_3XX, on ='platform', how='left')\\\n",
    "                .join(answers_4XX, on ='platform', how='left')\\\n",
    "                .join(answers_5XX, on ='platform', how='left')\n",
    "\n",
    "df_mart.show(5)"
   ]
  },
  {
   "cell_type": "markdown",
   "metadata": {},
   "source": [
    "Запишем получившуюся \"витрину\" в файл"
   ]
  },
  {
   "cell_type": "code",
   "execution_count": 36,
   "metadata": {},
   "outputs": [],
   "source": [
    "df = df_mart.toPandas()\n",
    "\n",
    "df['answers_200'] = df['answers_200'].fillna(0)\n",
    "df['answers_ne200'] = df['answers_ne200'].fillna(0)\n",
    "df['answers_3XX'] = df['answers_3XX'].fillna(0) \n",
    "df['answers_4XX'] = df['answers_4XX'].fillna(0) \n",
    "df['answers_5XX'] = df['answers_5XX'].fillna(0)"
   ]
  },
  {
   "cell_type": "code",
   "execution_count": null,
   "metadata": {},
   "outputs": [],
   "source": [
    "id_count = len(df)\n",
    "id = [x+1 for x in list(range(id_count))]\n",
    "\n",
    "df.insert(0, 'ID', id)"
   ]
  },
  {
   "cell_type": "code",
   "execution_count": null,
   "metadata": {},
   "outputs": [],
   "source": [
    "df.to_csv('data/df_mart.csv', index=False, sep=\"|\")"
   ]
  },
  {
   "cell_type": "markdown",
   "metadata": {},
   "source": [
    "Запишем данные в Postgres DataBase (поднимается из докера в папке postgres)"
   ]
  },
  {
   "cell_type": "code",
   "execution_count": null,
   "metadata": {},
   "outputs": [],
   "source": [
    "db_con = psycopg2.connect(database='testdb',     \n",
    "                        user='postgres',\n",
    "                        password='postgres',\n",
    "                        host='localhost',\n",
    "                        port=5432)\n",
    "cur = db_con.cursor()"
   ]
  },
  {
   "cell_type": "markdown",
   "metadata": {},
   "source": [
    "Создадим таблицу в соответствии с схемой в csv"
   ]
  },
  {
   "cell_type": "code",
   "execution_count": null,
   "metadata": {},
   "outputs": [],
   "source": [
    "db_con.commit()\n",
    "with open('data/df_mart.csv', 'r') as file:\n",
    "    next(file) \n",
    "    cur.copy_from(file, 'log_mart', sep='|')\n",
    "    db_con.commit()"
   ]
  },
  {
   "cell_type": "code",
   "execution_count": null,
   "metadata": {},
   "outputs": [],
   "source": [
    "db_con.close()"
   ]
  }
 ],
 "metadata": {
  "kernelspec": {
   "display_name": "Python 3",
   "language": "python",
   "name": "python3"
  },
  "language_info": {
   "codemirror_mode": {
    "name": "ipython",
    "version": 3
   },
   "file_extension": ".py",
   "mimetype": "text/x-python",
   "name": "python",
   "nbconvert_exporter": "python",
   "pygments_lexer": "ipython3",
   "version": "3.11.4"
  },
  "orig_nbformat": 4
 },
 "nbformat": 4,
 "nbformat_minor": 2
}
